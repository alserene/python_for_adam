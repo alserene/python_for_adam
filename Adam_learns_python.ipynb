{
 "cells": [
  {
   "cell_type": "markdown",
   "id": "52a1b64e",
   "metadata": {},
   "source": [
    "<div style=\"color: #3477eb; text-align: right;\">\n",
    "    <span style=\"font-size: 80pt; line-height: 120px;\">Python</span><br>\n",
    "    <span style=\"font-size: 24pt; line-height: 50px;\">for</span><br>\n",
    "    <span style=\"font-size: 60pt; line-height: 80px;\">Adam</span>\n",
    "</div>\n",
    "\n",
    "<hr style=\"border: 6px solid #3477eb;\">\n",
    "<div style=\"text-align: center; color: #3477eb; font-size: 24pt;\">- welcome -</div>\n",
    "<br>\n",
    "<p style=\"text-align: left; colour: black\">\n",
    "    Welcome, Adam, to your lesson in Python!<br><br>Python is a super cool coding language that lets you do lots of really cool things. Not only does your Aunt use Python in telescope and astrophysics simulation software, but YouTube, Spotify and Google are also all built using a heap of Python code! Even Artificial Intelligences (AI's) are created using Python!<br><br>In this notebook we're going to learn how to play with Python. This notebook is a special kind of notebook called a Jupyter notebook. It lets you run Python code in little blocks. Each code block has it's own little grey cell, and we run the cell with <strong>shift+Enter</strong>. Any results/output/printed statements will appear below the cell.\n",
    "</p>\n",
    "\n",
    "<div class=\"alert alert-block alert-info\">\n",
    "    <b>TODO:</b>  Keep an eye out for the activities you can try!\n",
    "</div>\n",
    "\n",
    "<hr style=\"border: 6px solid #3477eb;\">\n",
    "<div style=\"text-align: center; color: #3477eb; font-size: 24pt;\">- notebook contents -</div>\n",
    "<br><br><br>\n",
    "<div style=\"text-align: center; list-style-type: none;\">\n",
    "    <a href=\"#objects-and-variables\" style=\"color: #3477eb !important; text-decoration: none !important; font-weight: bold; font-size: 14pt;\">intro to objects and variables</a><br><br>\n",
    "    <a href=\"#useful-things\" style=\"color: #3477eb !important; text-decoration: none !important; font-weight: bold; font-size: 14pt;\">useful things</a><br>\n",
    "    <a href=\"#comments\" style=\"color: #829136 !important; text-decoration: none !important;\">comments</a><br>\n",
    "    <a href=\"#print\" style=\"color: #829136 !important; text-decoration: none !important;\">print statements</a><br>\n",
    "    <a href=\"#error\" style=\"color: #829136 !important; text-decoration: none !important;\">error messages</a><br>\n",
    "    <a href=\"#type\" style=\"color: #829136 !important; text-decoration: none !important;\">types</a><br><br>\n",
    "    <a href=\"#objects\" style=\"color: #3477eb !important; text-decoration: none !important; font-weight: bold; font-size: 14pt;\">objects</a><br><br>\n",
    "    <a href=\"#simple-objects\" style=\"color: #3477eb !important; text-decoration: none !important; font-weight: bold; font-style: italic; font-size: 10pt;\">simple objects</a><br>\n",
    "    <a href=\"#str\" style=\"color: #829136 !important; text-decoration: none !important;\">strings</a><br>\n",
    "    <a href=\"#number\" style=\"color: #829136 !important; text-decoration: none !important;\">numbers</a><br>\n",
    "    <a href=\"#bool\" style=\"color: #829136 !important; text-decoration: none !important;\">booleans (T/F)</a><br><br>\n",
    "    <a href=\"#complex-objects\" style=\"color: #3477eb !important; text-decoration: none !important; font-weight: bold; font-style: italic; font-size: 10pt;\">complex objects</a><br>\n",
    "    <a href=\"#list\" style=\"color: #829136 !important; text-decoration: none !important;\">lists</a><br>\n",
    "    <a href=\"#dict\" style=\"color: #829136 !important; text-decoration: none !important;\">dictionaries (dict)</a><br><br>\n",
    "    <a href=\"#functions\" style=\"color: #3477eb !important; text-decoration: none !important; font-weight: bold; font-size: 14pt;\">functions</a><br>\n",
    "    <a href=\"#one-input\" style=\"color: #829136 !important; text-decoration: none !important;\">one input</a><br>\n",
    "    <a href=\"#no-inputs\" style=\"color: #829136 !important; text-decoration: none !important;\">no inputs</a><br>\n",
    "    <a href=\"#many-inputs\" style=\"color: #829136 !important; text-decoration: none !important;\">many inputs</a><br>\n",
    "    <a href=\"#return\" style=\"color: #829136 !important; text-decoration: none !important;\">return info from function</a><br><br>\n",
    "</div>\n",
    "\n",
    "<br>\n",
    "<a id=\"objects-and-variables\"></a>\n",
    "<hr style=\"border: 6px solid #3477eb;\">\n",
    "<div style=\"text-align: center; color: #3477eb; font-size: 24pt;\">- intro to objects and variables -</div>\n",
    "<br>\n",
    "<p style=\"text-align: left; colour: black; font-size: 10pt;\">\n",
    "    <strong>Intro</strong><br>Imagine your computer is like a magic box that can understand and remember things. In Python, we use special things called objects to store and work with information.<br><br><strong>Objects</strong><br>Objects can be like puzzle pieces – some are numbers, some are words, and some are groups of things. For example, a number can be an object, like the number 7. Words can be objects too, like the word \"Python.\" And, we can even have objects that store many things together, like a box of toys.<br><br><strong>Creating Our Own Objects</strong><br>Sometimes, the objects Python gives us might not be exactly what we need. So, we can create our own objects! We can make up rules for our objects – what information they will store and what they can do.<br><br><strong>Variables</strong><br>Now, to talk to these objects, we give them special names called variables. Think of a variable as a name tag that we stick onto an object. This name tag helps us remember where the object is in the computer's memory.<br><br><strong>Simple Objects</strong><br>Let's start with simple objects. Imagine a box. We can give it a name, like <code style=\"background-color: transparent; font-size: 10pt;\">my_number</code>. This box can hold one thing, like the number 5. So, now, whenever we say <code style=\"background-color: transparent; font-size: 10pt;\">my_number</code>, Python knows we're talking about that box with the number 5 inside.\n",
    "</p>"
   ]
  },
  {
   "cell_type": "code",
   "execution_count": null,
   "id": "82e04332",
   "metadata": {},
   "outputs": [],
   "source": [
    "my_number = 5"
   ]
  },
  {
   "cell_type": "markdown",
   "id": "d4db9970",
   "metadata": {},
   "source": [
    "<p><strong>Complex Objects</strong><br>Now, what if we want to store more things? We can have a bigger box! This bigger box is like a list that can hold many objects.</p>"
   ]
  },
  {
   "cell_type": "code",
   "execution_count": null,
   "id": "6b16d961",
   "metadata": {},
   "outputs": [],
   "source": [
    "my_list = [1, 2, 3, \"Python\", True]"
   ]
  },
  {
   "cell_type": "markdown",
   "id": "ea960c1f",
   "metadata": {},
   "source": [
    "<p>Here, <code style=\"background-color: transparent; font-size: 10pt;\">my_list</code> is our box that can store numbers, words, and even a special thing called <code style=\"background-color: transparent; font-size: 10pt;\">True</code>.<br><br><strong>Summary</strong><br>In Python, we use objects to store and play with information. Objects can be simple (like a number) or complex (like a list of things). We create name tags, called variables, to talk to these objects and tell the computer what we want to do.<br><br>\n",
    "Now, let's get coding!</p><br>\n",
    "\n",
    "<a id=\"useful-things\"></a>\n",
    "<hr style=\"border: 6px solid #3477eb;\">\n",
    "<div style=\"text-align: center; color: #3477eb; font-size: 24pt;\">- useful things -</div>\n",
    "<br>\n",
    "\n",
    "<div style=\"text-align: center; list-style-type: none;\">\n",
    "    <a href=\"#comments\" style=\"color: #3477eb !important; text-decoration: none !important;\">comments</a><br>\n",
    "    <a href=\"#print\" style=\"color: #3477eb !important; text-decoration: none !important;\">print statements</a><br>\n",
    "    <a href=\"#error\" style=\"color: #3477eb !important; text-decoration: none !important;\">error messages</a><br>\n",
    "    <a href=\"#type\" style=\"color: #3477eb !important; text-decoration: none !important;\">types</a><br>\n",
    "</div>\n",
    "<br>\n",
    "\n",
    "<a id=\"comments\"></a>\n",
    "<hr style=\"border: 1px solid #3477eb;\">\n",
    "<div style=\"text-align: center; color: #3477eb; font-size: 14pt;\">- comments -</div>\n",
    "<br>\n",
    "<p style=\"text-align: left; colour: black; font-size: 10pt;\">\n",
    "    Code cells can contain code or comments. Comments are just for you, not the computer. You can add a comment to any code, just by adding a <code style=\"background-color: transparent; font-size: 10pt;\">#</code>. Anything typed after the # will be ignored by the compiler (the special program that reads and translates your code).\n",
    "</p>"
   ]
  },
  {
   "cell_type": "code",
   "execution_count": null,
   "id": "40e5f3af",
   "metadata": {},
   "outputs": [],
   "source": [
    "# This is a comment.\n",
    "# Comments are useful for leaving yourself reminders."
   ]
  },
  {
   "cell_type": "markdown",
   "id": "ac807f8f",
   "metadata": {},
   "source": [
    "<div class=\"alert alert-block alert-info\">\n",
    "    <b>TODO:</b> Write your first comment and run the cell!\n",
    "</div>"
   ]
  },
  {
   "cell_type": "code",
   "execution_count": null,
   "id": "a5acc16e",
   "metadata": {},
   "outputs": [],
   "source": [
    "\n"
   ]
  },
  {
   "cell_type": "markdown",
   "id": "5d56b13e",
   "metadata": {},
   "source": [
    "<a id=\"print\"></a>\n",
    "<hr style=\"border: 1px solid #3477eb;\">\n",
    "<div style=\"text-align: center; color: #3477eb; font-size: 14pt;\">- printing text on screen -</div>\n",
    "<br>\n",
    "<p style=\"text-align: left; colour: black; font-size: 10pt;\">\n",
    "    If we want to display something on the screen (e.g. some text or the answer to a math problem) we can use the <code style=\"background-color: transparent; font-size: 10pt;\">print()</code> command.\n",
    "</p>\n",
    "<div class=\"alert alert-block alert-warning\">\n",
    "    <b>Commands:</b> Python commands that have brackets after them (like <code style=\"background-color: transparent; font-size: 10pt;\">print()</code>) <em>often</em> mean you should put something inside the brackets.\n",
    "</div>\n",
    "<div class=\"alert alert-block alert-info\">\n",
    "    <b>TODO:</b> Run the next cell (<strong>shift+Enter</strong>) to see what happens!\n",
    "</div>"
   ]
  },
  {
   "cell_type": "code",
   "execution_count": null,
   "id": "34a497e7",
   "metadata": {},
   "outputs": [],
   "source": [
    "print(123) # Run this cell (shift+Enter) to see what happens!"
   ]
  },
  {
   "cell_type": "code",
   "execution_count": null,
   "id": "b71b5a8c",
   "metadata": {},
   "outputs": [],
   "source": [
    "print(\"Hi Adam!\") # Run this one, too"
   ]
  },
  {
   "cell_type": "markdown",
   "id": "b6ff11c4",
   "metadata": {},
   "source": [
    "<p style=\"text-align: left; colour: black; font-size: 10pt;\">\n",
    "    To display text, the text needs to be enclosed in quotation marks.<br>Either 'single' or \"double\" quotes will work, as long as the pairs match.\n",
    "</p>\n",
    "\n",
    "<div class=\"alert alert-block alert-info\">\n",
    "    <b>TODO:</b> Print something!\n",
    "</div>"
   ]
  },
  {
   "cell_type": "code",
   "execution_count": null,
   "id": "63c1294a",
   "metadata": {},
   "outputs": [],
   "source": [
    "\n"
   ]
  },
  {
   "cell_type": "markdown",
   "id": "6dff16e8",
   "metadata": {},
   "source": [
    "<div class=\"alert alert-block alert-info\">\n",
    "    <b>TODO:</b> Add a comment to the previous cell and run it again!\n",
    "</div>\n",
    "<a id=\"error\"></a>\n",
    "<hr style=\"border: 1px solid #3477eb;\">\n",
    "<div style=\"text-align: center; color: #3477eb; font-size: 14pt;\">- error messages == helpful hints! -</div>\n",
    "<br>\n",
    "<p style=\"text-align: left; colour: black; font-size: 10pt;\">\n",
    "    Python will let you know if you need to fix something in your code by showing error messages. They're very helpful and often give you good hints on what to do!<br><br>The following three cells all have a problem in them and will return an error when run. Run them and check out the name of the errors (in red).\n",
    "</p>"
   ]
  },
  {
   "cell_type": "code",
   "execution_count": null,
   "id": "b9f487c1",
   "metadata": {
    "scrolled": true
   },
   "outputs": [],
   "source": [
    "1 ==\n",
    "\n",
    "# Problem: we didn't finish the instructions!"
   ]
  },
  {
   "cell_type": "markdown",
   "id": "7b95407d",
   "metadata": {},
   "source": [
    "<p style=\"text-align: left; colour: black; font-size: 10pt;\">\n",
    "    Syntax errors are like spelling+grammar errors.\n",
    "</p>"
   ]
  },
  {
   "cell_type": "code",
   "execution_count": null,
   "id": "a72b2fb1",
   "metadata": {},
   "outputs": [],
   "source": [
    "my_list = []  # make an empty list called my_list\n",
    "my_list[3]  # attempt to get the list item number 3\n",
    "\n",
    "# Problem: the list is empty!"
   ]
  },
  {
   "cell_type": "markdown",
   "id": "93ba6810",
   "metadata": {},
   "source": [
    "<p style=\"text-align: left; colour: black; font-size: 10pt;\">\n",
    "    The \"---->\" arrow on the left points to where the error is coming from. This is very handy when you have lots of code.\n",
    "</p>"
   ]
  },
  {
   "cell_type": "code",
   "execution_count": null,
   "id": "e29adc3b",
   "metadata": {},
   "outputs": [],
   "source": [
    "floopetyfloof\n",
    "\n",
    "# Problem: we need to properly define things before using them in our code."
   ]
  },
  {
   "cell_type": "markdown",
   "id": "83303c9a",
   "metadata": {},
   "source": [
    "<a id=\"type\"></a>\n",
    "<hr style=\"border: 1px solid #3477eb;\">\n",
    "<div style=\"text-align: center; color: #3477eb; font-size: 14pt;\">- types -</div>\n",
    "<br>\n",
    "<p style=\"text-align: left; colour: black; font-size: 10pt;\">\n",
    "    Python had some handy commands to find out the type of an object, to check if an object is the right type, and to change types.<br><br> To check the type of an object, use<code style=\"background-color: transparent; font-size: 10pt; font-weight: bold;\">type()</code>.</p>"
   ]
  },
  {
   "cell_type": "code",
   "execution_count": null,
   "id": "bac4ad86",
   "metadata": {},
   "outputs": [],
   "source": [
    "type(123)"
   ]
  },
  {
   "cell_type": "code",
   "execution_count": null,
   "id": "c275a1fb",
   "metadata": {},
   "outputs": [],
   "source": [
    "type(\"Hi Adam!\")"
   ]
  },
  {
   "cell_type": "markdown",
   "id": "4286b820",
   "metadata": {},
   "source": [
    "<hr style=\"border: 1px solid #829136; width: 50%;\">\n",
    "<div style=\"text-align: center; color: #829136; font-size: 12pt;\">- - things you can do with types - -</div>\n",
    "<br>\n",
    "<p style=\"text-align: left; colour: black; font-size: 10pt;\">\n",
    "    You can <em>sometimes</em> convert objects to other types.\n",
    "</p>"
   ]
  },
  {
   "cell_type": "code",
   "execution_count": null,
   "id": "d7d306c7",
   "metadata": {},
   "outputs": [],
   "source": [
    "str(123)"
   ]
  },
  {
   "cell_type": "code",
   "execution_count": null,
   "id": "f97594e8",
   "metadata": {},
   "outputs": [],
   "source": [
    "int(\"Hi Adam!\")"
   ]
  },
  {
   "cell_type": "markdown",
   "id": "7d9445f8",
   "metadata": {},
   "source": [
    "<p style=\"text-align: left; colour: black; font-size: 10pt;\">\n",
    "    We can check if two objects are equivalent.\n",
    "</p>"
   ]
  },
  {
   "cell_type": "code",
   "execution_count": null,
   "id": "1bf392b7",
   "metadata": {},
   "outputs": [],
   "source": [
    "1 == \"1\""
   ]
  },
  {
   "cell_type": "markdown",
   "id": "e75963f4",
   "metadata": {},
   "source": [
    "<p style=\"text-align: left; colour: black; font-size: 10pt;\">\n",
    "    Numbers and strings don't go together ...\n",
    "</p>"
   ]
  },
  {
   "cell_type": "code",
   "execution_count": null,
   "id": "bf8eab87",
   "metadata": {},
   "outputs": [],
   "source": [
    "1 + \"2\""
   ]
  },
  {
   "cell_type": "markdown",
   "id": "f6dde196",
   "metadata": {},
   "source": [
    "<p style=\"text-align: left; colour: black; font-size: 10pt;\">\n",
    "    ... unless you change their types!\n",
    "</p>"
   ]
  },
  {
   "cell_type": "code",
   "execution_count": null,
   "id": "63d9bfd2",
   "metadata": {},
   "outputs": [],
   "source": [
    "1 + int(\"2\")"
   ]
  },
  {
   "cell_type": "code",
   "execution_count": null,
   "id": "6d24c8cf",
   "metadata": {},
   "outputs": [],
   "source": [
    "str(1) == \"1\""
   ]
  },
  {
   "cell_type": "markdown",
   "id": "8bcad7fa",
   "metadata": {},
   "source": [
    "<div class=\"alert alert-block alert-info\">\n",
    "<b>TODO:</b> Convert a string into an int.\n",
    "</div>"
   ]
  },
  {
   "cell_type": "code",
   "execution_count": null,
   "id": "b7205a79",
   "metadata": {},
   "outputs": [],
   "source": [
    "\n"
   ]
  },
  {
   "cell_type": "markdown",
   "id": "86a014a8",
   "metadata": {},
   "source": [
    "<div class=\"alert alert-block alert-info\">\n",
    "    <b>TODO:</b> Convert an int into a string.\n",
    "</div>"
   ]
  },
  {
   "cell_type": "code",
   "execution_count": null,
   "id": "515aafb8",
   "metadata": {},
   "outputs": [],
   "source": [
    "\n"
   ]
  },
  {
   "cell_type": "markdown",
   "id": "bb93b1de",
   "metadata": {},
   "source": [
    "<a id=\"objects\"></a>\n",
    "<hr style=\"border: 6px solid #3477eb;\">\n",
    "<div style=\"text-align: center; color: #3477eb; font-size: 24pt;\">- objects -</div>\n",
    "<br>\n",
    "\n",
    "<p style=\"text-align: left; colour: black; font-size: 10pt;\">\n",
    "    Python comes with a bunch of objects we can use to store/manipulate data, such as text, numbers and collections of other objects. We can also make our own objects and give them rules. Objects can be simple (storing just one thing) or complex (these can store lots of things).<br><br>The objects we use in Python are stored in the computer's memory and, to access the objects, we create names called <strong>variables</strong> that reference the storage locations of the objects.</p>\n",
    "<div class=\"alert alert-block alert-warning\">\n",
    "    <b>Variable names:</b> We can name variables anything we want, but no spaces!\n",
    "</div>\n",
    "<br>\n",
    "\n",
    "<a id=\"simple-objects\"></a>\n",
    "<hr style=\"border: 3px solid #3477eb;\">\n",
    "<div style=\"text-align: center; color: #3477eb; font-size: 18pt;\">- simple objects -</div>\n",
    "<br>\n",
    "<div style=\"text-align: center; list-style-type: none;\">\n",
    "    <a href=\"#str\" style=\"color: #3477eb !important; text-decoration: none !important;\">strings</a><br>\n",
    "    <a href=\"#number\" style=\"color: #3477eb !important; text-decoration: none !important;\">numbers</a><br>\n",
    "    <a href=\"#bool\" style=\"color: #3477eb !important; text-decoration: none !important;\">booleans (T/F)</a><br>\n",
    "</div>\n",
    "<br>\n",
    "\n",
    "<a id=\"str\"></a>\n",
    "<hr style=\"border: 0.5px solid #3477eb;\">\n",
    "<div style=\"text-align: center; color: #3477eb; font-size: 14pt;\">- strings -</div>"
   ]
  },
  {
   "cell_type": "code",
   "execution_count": null,
   "id": "025856e4",
   "metadata": {},
   "outputs": [],
   "source": [
    "adams_name = \"Adam\""
   ]
  },
  {
   "cell_type": "code",
   "execution_count": null,
   "id": "452bf2b4",
   "metadata": {},
   "outputs": [],
   "source": [
    "adams_name"
   ]
  },
  {
   "cell_type": "code",
   "execution_count": null,
   "id": "7da19e73",
   "metadata": {},
   "outputs": [],
   "source": [
    "print(adams_name)"
   ]
  },
  {
   "cell_type": "markdown",
   "id": "f2f84111",
   "metadata": {},
   "source": [
    "<p style=\"text-align: left; colour: black; font-size: 10pt;\">\n",
    "    When the print command is used, strings are printed without the quotation marks.</p>"
   ]
  },
  {
   "cell_type": "code",
   "execution_count": null,
   "id": "478f7b83",
   "metadata": {},
   "outputs": [],
   "source": [
    "type(adams_name) # check variable type"
   ]
  },
  {
   "cell_type": "markdown",
   "id": "8a04ebd9",
   "metadata": {},
   "source": [
    "<div class=\"alert alert-block alert-info\">\n",
    "<b>TODO:</b> Make a variable to store some text info.\n",
    "</div>"
   ]
  },
  {
   "cell_type": "code",
   "execution_count": null,
   "id": "d129f7c6",
   "metadata": {},
   "outputs": [],
   "source": [
    "\n"
   ]
  },
  {
   "cell_type": "markdown",
   "id": "2e8377e9",
   "metadata": {},
   "source": [
    "<a id=\"things-you-can-do-with-strings\"></a>\n",
    "<hr style=\"border: 1px solid #829136; width: 50%;\">\n",
    "<div style=\"text-align: center; color: #829136; font-size: 12pt;\">- - things you can do with strings - -</div>\n",
    "<br>\n",
    "<p style=\"text-align: left; colour: black; font-size: 10pt;\">\n",
    "    There are so many things you can do with strings!<br><br>Strings can be added together to make longer strings.</p>"
   ]
  },
  {
   "cell_type": "code",
   "execution_count": null,
   "id": "1654c765",
   "metadata": {},
   "outputs": [],
   "source": [
    "\"Adam\" + \" is \" + \"10\""
   ]
  },
  {
   "cell_type": "markdown",
   "id": "790563f4",
   "metadata": {},
   "source": [
    "<hr style=\"border: 1px solid #829136; width: 25%;\">\n",
    "<p style=\"text-align: left; colour: black; font-size: 10pt;\">\n",
    "    You can insert variables into other strings.</p>"
   ]
  },
  {
   "cell_type": "code",
   "execution_count": null,
   "id": "4ae60a3f",
   "metadata": {},
   "outputs": [],
   "source": [
    "adam_says_hello = f\"Hi! My name is {adams_name}.\""
   ]
  },
  {
   "cell_type": "code",
   "execution_count": null,
   "id": "de076a36",
   "metadata": {},
   "outputs": [],
   "source": [
    "print(adam_says_hello)"
   ]
  },
  {
   "cell_type": "markdown",
   "id": "6287a704",
   "metadata": {},
   "source": [
    "<div class=\"alert alert-block alert-info\">\n",
    "<b>TODO:</b> Make a new string that says 'Adam is 10' using the variable <code style=\"background-color: transparent; font-size: 10pt;\">adams_name</code>.\n",
    "</div>"
   ]
  },
  {
   "cell_type": "code",
   "execution_count": null,
   "id": "6399ca1c",
   "metadata": {},
   "outputs": [],
   "source": [
    "\n"
   ]
  },
  {
   "cell_type": "markdown",
   "id": "197e3a3d",
   "metadata": {},
   "source": [
    "<a id=\"number\"></a>\n",
    "<hr style=\"border: 0.5px solid #3477eb; width: 50%;\">\n",
    "<div style=\"text-align: center; color: #3477eb; font-size: 14pt;\">- numbers -</div><br>\n",
    "<p style=\"text-align: left; colour: black; font-size: 10pt;\">\n",
    "    Numbers are usually either whole numbers (<code style=\"background-color: transparent; font-size: 10pt;\">int</code>) or have some decimal part (<code style=\"background-color: transparent; font-size: 10pt;\">float</code>).</p>"
   ]
  },
  {
   "cell_type": "code",
   "execution_count": null,
   "id": "e65f6b60",
   "metadata": {},
   "outputs": [],
   "source": [
    "type(1)"
   ]
  },
  {
   "cell_type": "code",
   "execution_count": null,
   "id": "6f59b613",
   "metadata": {},
   "outputs": [],
   "source": [
    "type(1.234)"
   ]
  },
  {
   "cell_type": "code",
   "execution_count": null,
   "id": "d0fd2eb5",
   "metadata": {},
   "outputs": [],
   "source": [
    "adams_age = 10"
   ]
  },
  {
   "cell_type": "code",
   "execution_count": null,
   "id": "571a3298",
   "metadata": {},
   "outputs": [],
   "source": [
    "adams_age"
   ]
  },
  {
   "cell_type": "markdown",
   "id": "414e4c6c",
   "metadata": {},
   "source": [
    "<div class=\"alert alert-block alert-info\">\n",
    "<b>TODO:</b> Print <code style=\"background-color: transparent; font-size: 10pt;\">adams_age</code>.\n",
    "</div>"
   ]
  },
  {
   "cell_type": "code",
   "execution_count": null,
   "id": "ccedcd9c",
   "metadata": {},
   "outputs": [],
   "source": [
    "\n"
   ]
  },
  {
   "cell_type": "markdown",
   "id": "05b924a6",
   "metadata": {},
   "source": [
    "<div class=\"alert alert-block alert-info\">\n",
    "<b>TODO:</b> Check what type <code style=\"background-color: transparent; font-size: 10pt;\">adams_age</code> is.\n",
    "</div>"
   ]
  },
  {
   "cell_type": "code",
   "execution_count": null,
   "id": "9a568604",
   "metadata": {},
   "outputs": [],
   "source": [
    "\n"
   ]
  },
  {
   "cell_type": "markdown",
   "id": "fdadff2b",
   "metadata": {},
   "source": [
    "<div class=\"alert alert-block alert-info\">\n",
    "<b>TODO:</b> Convert <code style=\"background-color: transparent; font-size: 10pt;\">adams_age</code> into a string.\n",
    "</div>"
   ]
  },
  {
   "cell_type": "code",
   "execution_count": null,
   "id": "3c81fd50",
   "metadata": {},
   "outputs": [],
   "source": [
    "\n"
   ]
  },
  {
   "cell_type": "markdown",
   "id": "352c998e",
   "metadata": {},
   "source": [
    "<div class=\"alert alert-block alert-info\">\n",
    "<b>TODO:</b> Check what type <code style=\"background-color: transparent; font-size: 10pt;\">1.0</code> is.\n",
    "</div>"
   ]
  },
  {
   "cell_type": "code",
   "execution_count": null,
   "id": "7ab27094",
   "metadata": {},
   "outputs": [],
   "source": [
    "\n"
   ]
  },
  {
   "cell_type": "markdown",
   "id": "b31965b7",
   "metadata": {},
   "source": [
    "<a id=\"thing-you-can-do-with-numbers\"></a>\n",
    "<hr style=\"border: 1px solid #829136; width: 50%;\">\n",
    "<div style=\"text-align: center; color: #829136; font-size: 12pt;\">- - things you can do with numbers - -</div>\n",
    "<br>\n",
    "<p style=\"text-align: left; colour: black; font-size: 10pt;\">\n",
    "    You can solve math problems!</p>"
   ]
  },
  {
   "cell_type": "code",
   "execution_count": null,
   "id": "e425937f",
   "metadata": {},
   "outputs": [],
   "source": [
    "54 + 79"
   ]
  },
  {
   "cell_type": "code",
   "execution_count": null,
   "id": "f482c529",
   "metadata": {},
   "outputs": [],
   "source": [
    "2 * 7 - 1"
   ]
  },
  {
   "cell_type": "code",
   "execution_count": null,
   "id": "e4b1a26f",
   "metadata": {},
   "outputs": [],
   "source": [
    "9 / 3"
   ]
  },
  {
   "cell_type": "markdown",
   "id": "04de0846",
   "metadata": {},
   "source": [
    "<p style=\"color: #3477eb; font-size: 14px; text-align: center;\">mathematical operators</p>\n",
    "<table border=\"1\" style=\"font-size: 12px;\">\n",
    "    <colgroup>\n",
    "        <col style=\"width: 130px;\">\n",
    "        <col style=\"width: 30px;\">\n",
    "    </colgroup>\n",
    "    <tr>\n",
    "        <td>plus</td>\n",
    "        <td>+</td>\n",
    "    </tr>\n",
    "    <tr>\n",
    "        <td>minus</td>\n",
    "        <td>-</td>\n",
    "    </tr>\n",
    "    <tr>\n",
    "        <td>multiply</td>\n",
    "        <td>*</td>\n",
    "    </tr>\n",
    "    <tr>\n",
    "        <td>divide</td>\n",
    "        <td>/</td>\n",
    "    </tr>\n",
    "    <tr>\n",
    "        <td>to the power of</td>\n",
    "        <td>**</td>\n",
    "    </tr>\n",
    "</table>"
   ]
  },
  {
   "cell_type": "markdown",
   "id": "05f508b2",
   "metadata": {},
   "source": [
    "<div class=\"alert alert-block alert-info\">\n",
    "<b>TODO:</b> Do some math!\n",
    "</div>"
   ]
  },
  {
   "cell_type": "code",
   "execution_count": null,
   "id": "82b63e96",
   "metadata": {},
   "outputs": [],
   "source": [
    "\n"
   ]
  },
  {
   "cell_type": "markdown",
   "id": "07bc99a6",
   "metadata": {},
   "source": [
    "<p>You can check your math is correct or compare numbers or equations.</p>"
   ]
  },
  {
   "cell_type": "code",
   "execution_count": null,
   "id": "868ed7e7",
   "metadata": {},
   "outputs": [],
   "source": [
    "1 + 1 == 2"
   ]
  },
  {
   "cell_type": "code",
   "execution_count": null,
   "id": "66061ffe",
   "metadata": {},
   "outputs": [],
   "source": [
    "1 + 1 > 3"
   ]
  },
  {
   "cell_type": "markdown",
   "id": "f37cd653",
   "metadata": {},
   "source": [
    "<p style=\"color: #3477eb; font-size: 14px; text-align: center;\">mathematical comparisons</p>\n",
    "<table border=\"1\" style=\"font-size: 12px;\">\n",
    "    <colgroup>\n",
    "        <col style=\"width: 150px;\">\n",
    "        <col style=\"width: 30px;\">\n",
    "    </colgroup>\n",
    "    <tr>\n",
    "        <td>less than</td>\n",
    "        <td>&lt;</td>\n",
    "    </tr>\n",
    "    <tr>\n",
    "        <td>less than or equal to</td>\n",
    "        <td>&lt;=</td>\n",
    "    </tr>\n",
    "    <tr>\n",
    "        <td>equal</td>\n",
    "        <td>=</td>\n",
    "    </tr>\n",
    "    <tr>\n",
    "        <td>greater than or equal to</td>\n",
    "        <td>&gt;=</td>\n",
    "    </tr>\n",
    "    <tr>\n",
    "        <td>greater than</td>\n",
    "        <td>&gt;</td>\n",
    "    </tr>\n",
    "</table>"
   ]
  },
  {
   "cell_type": "markdown",
   "id": "75db31b4",
   "metadata": {},
   "source": [
    "<div class=\"alert alert-block alert-info\">\n",
    "<b>TODO:</b> Compare some numbers!\n",
    "</div>"
   ]
  },
  {
   "cell_type": "code",
   "execution_count": null,
   "id": "acc4a7c3",
   "metadata": {},
   "outputs": [],
   "source": [
    "\n"
   ]
  },
  {
   "cell_type": "markdown",
   "id": "0b4d6eef",
   "metadata": {},
   "source": [
    "<hr style=\"border: 1px solid #829136; width: 25%;\">\n",
    "<p>You can use variables in your math equations.</p>"
   ]
  },
  {
   "cell_type": "code",
   "execution_count": null,
   "id": "04f559ae",
   "metadata": {},
   "outputs": [],
   "source": [
    "a = 32\n",
    "b = 17.6\n",
    "c = a + b"
   ]
  },
  {
   "cell_type": "code",
   "execution_count": null,
   "id": "638f1127",
   "metadata": {},
   "outputs": [],
   "source": [
    "print(c)"
   ]
  },
  {
   "cell_type": "markdown",
   "id": "1b0d5099",
   "metadata": {},
   "source": [
    "<div class=\"alert alert-block alert-info\">\n",
    "<b>TODO:</b> Do some math with variables!\n",
    "</div>"
   ]
  },
  {
   "cell_type": "code",
   "execution_count": null,
   "id": "9a847946",
   "metadata": {},
   "outputs": [],
   "source": [
    "\n"
   ]
  },
  {
   "cell_type": "markdown",
   "id": "f4c800c5",
   "metadata": {},
   "source": [
    "<hr style=\"border: 1px solid #829136; width: 25%;\">\n",
    "<p style=\"text-align: left; colour: black; font-size: 10pt;\">\n",
    "    When printing numbers, you can control how they are displayed.</p>"
   ]
  },
  {
   "cell_type": "code",
   "execution_count": null,
   "id": "c41b8ae5",
   "metadata": {},
   "outputs": [],
   "source": [
    "some_number = 123.4567890"
   ]
  },
  {
   "cell_type": "code",
   "execution_count": null,
   "id": "e0dc2bb0",
   "metadata": {},
   "outputs": [],
   "source": [
    "print(f\"Here is a number with 3 decimal places: {some_number:.3f}\")"
   ]
  },
  {
   "cell_type": "markdown",
   "id": "88f68240",
   "metadata": {},
   "source": [
    "<a id=\"bool\"></a>\n",
    "<hr style=\"border: 0.5px solid #3477eb; width: 50%;\">\n",
    "<div style=\"text-align: center; color: #3477eb; font-size: 14pt;\">- booleans -</div>\n",
    "\n",
    "<p>Another type of object is a boolean (bool), which is like a truth switch. A bool is either <code style=\"background-color: transparent; font-size: 10pt;\">True</code> or <code style=\"background-color: transparent; font-size: 10pt;\">False</code>.</p>"
   ]
  },
  {
   "cell_type": "code",
   "execution_count": null,
   "id": "cf3665b2",
   "metadata": {},
   "outputs": [],
   "source": [
    "adam_lives_in_caloundra = True\n",
    "adam_has_purple_hair = False"
   ]
  },
  {
   "cell_type": "code",
   "execution_count": null,
   "id": "ab5581db",
   "metadata": {},
   "outputs": [],
   "source": [
    "adam_lives_in_caloundra"
   ]
  },
  {
   "cell_type": "code",
   "execution_count": null,
   "id": "78ef3ae6",
   "metadata": {},
   "outputs": [],
   "source": [
    "type(adam_lives_in_caloundra)"
   ]
  },
  {
   "cell_type": "code",
   "execution_count": null,
   "id": "65348682",
   "metadata": {},
   "outputs": [],
   "source": [
    "if adam_lives_in_caloundra:\n",
    "    print(\"Adam lives in the C-town!\")"
   ]
  },
  {
   "cell_type": "markdown",
   "id": "cfceee8b",
   "metadata": {},
   "source": [
    "<p>The above code is called an <strong><code style=\"background-color: transparent; font-size: 10pt;\">if</code> statement</strong>.<br>You use <code style=\"background-color: transparent; font-size: 10pt;\">if</code> when you want to check a condition (whether something is True or False).<br>If statements can be simple (like above) or more complex (like below).</p>"
   ]
  },
  {
   "cell_type": "code",
   "execution_count": null,
   "id": "c7208fdd",
   "metadata": {},
   "outputs": [],
   "source": [
    "adam_lives_in_nambour = False\n",
    "adam_lives_in_kawana = False"
   ]
  },
  {
   "cell_type": "code",
   "execution_count": null,
   "id": "8acfc39b",
   "metadata": {},
   "outputs": [],
   "source": [
    "if adam_lives_in_nambour:\n",
    "    print(\"Adam lives in the N-town!\")\n",
    "if adam_lives_in_kawana:\n",
    "    print(\"Adam lives in the K-town!\")\n",
    "else:\n",
    "    print(\"Adam doesn't live in the N-town or K-town.\")"
   ]
  },
  {
   "cell_type": "markdown",
   "id": "394942e2",
   "metadata": {},
   "source": [
    "<p>Notice the <code style=\"background-color: transparent; font-size: 10pt;\">else</code> here? This code is called an <strong><code style=\"background-color: transparent; font-size: 10pt;\">if-else</code> statement</strong>.<br>You use <code style=\"background-color: transparent; font-size: 10pt;\">else</code> when you want to catch all the conditions that aren't caught by the <code style=\"background-color: transparent; font-size: 10pt;\">if</code>."
   ]
  },
  {
   "cell_type": "markdown",
   "id": "aa3115a4",
   "metadata": {},
   "source": [
    "<div class=\"alert alert-block alert-info\">\n",
    "<b>TODO:</b> Create your own bool!\n",
    "</div>"
   ]
  },
  {
   "cell_type": "code",
   "execution_count": null,
   "id": "38023dd1",
   "metadata": {},
   "outputs": [],
   "source": [
    "\n"
   ]
  },
  {
   "cell_type": "markdown",
   "id": "4bd09c51",
   "metadata": {},
   "source": [
    "<div class=\"alert alert-block alert-info\">\n",
    "<b>TODO:</b> Now use your bool in an <code style=\"background-color: transparent; font-size: 10pt;\">if</code>/<code style=\"background-color: transparent; font-size: 10pt;\">if-else</code> statement!\n",
    "</div>"
   ]
  },
  {
   "cell_type": "code",
   "execution_count": null,
   "id": "bc7acd46",
   "metadata": {},
   "outputs": [],
   "source": [
    "\n"
   ]
  },
  {
   "cell_type": "markdown",
   "id": "5290b88c",
   "metadata": {},
   "source": [
    "<a id=\"complex-objects\"></a>\n",
    "<hr style=\"border: 3px solid #3477eb;\">\n",
    "<div style=\"text-align: center; color: #3477eb; font-size: 18pt;\">- complex objects -</div>\n",
    "<br>\n",
    "<div style=\"text-align: center; list-style-type: none;\">\n",
    "    <a href=\"#list\" style=\"color: #3477eb !important; text-decoration: none !important;\">lists</a><br>\n",
    "    <a href=\"#dict\" style=\"color: #3477eb !important; text-decoration: none !important;\">dictionaries (dict)</a><br>\n",
    "    <a style=\"color: gray !important; text-decoration: none !important;\">sets</a><br>\n",
    "    <a style=\"color: gray !important; text-decoration: none !important;\">tuples</a><br>\n",
    "    <a style=\"color: gray !important; text-decoration: none !important;\">arrays</a><br>\n",
    "</div>\n",
    "<br>\n",
    "<p>Complex objects are those that can store more than one object.<br><br>Lists and dictionaries are the two types of complex objects we'll play with, but there are others, such as sets, tuples and arrays.</p>\n",
    "\n",
    "<a id=\"list\"></a>\n",
    "<hr style=\"border: 0.5px solid #3477eb;\">\n",
    "<div style=\"text-align: center; color: #3477eb; font-size: 14pt;\">- lists -</div><br>\n",
    "<p>Lists are created by using square brackets and separating the list items with commas.<br>List items can be numbers, strings or even other lists.</p>"
   ]
  },
  {
   "cell_type": "code",
   "execution_count": null,
   "id": "05c1fb6d",
   "metadata": {},
   "outputs": [],
   "source": [
    "spell_adam = ['A', 'd', 'a', 'm'] # list (of strings)"
   ]
  },
  {
   "cell_type": "code",
   "execution_count": null,
   "id": "8d4baba1",
   "metadata": {},
   "outputs": [],
   "source": [
    "spell_adam"
   ]
  },
  {
   "cell_type": "markdown",
   "id": "0e99688e",
   "metadata": {},
   "source": [
    "<div class=\"alert alert-block alert-info\">\n",
    "<b>TODO:</b> Check what type <code style=\"background-color: transparent; font-size: 10pt;\">spell_adam</code> is.\n",
    "</div>"
   ]
  },
  {
   "cell_type": "code",
   "execution_count": null,
   "id": "cd3ee95b",
   "metadata": {},
   "outputs": [],
   "source": [
    "\n"
   ]
  },
  {
   "cell_type": "markdown",
   "id": "38f2e7c7",
   "metadata": {},
   "source": [
    "<div class=\"alert alert-block alert-info\">\n",
    "<b>TODO:</b> Make a list of numbers.\n",
    "</div>"
   ]
  },
  {
   "cell_type": "code",
   "execution_count": null,
   "id": "75d468ea",
   "metadata": {},
   "outputs": [],
   "source": [
    "\n"
   ]
  },
  {
   "cell_type": "markdown",
   "id": "782bb3c9",
   "metadata": {},
   "source": [
    "<a id=\"thing-you-can-do-with-lists\"></a>\n",
    "<hr style=\"border: 1px solid #829136; width: 50%;\">\n",
    "<div style=\"text-align: center; color: #829136; font-size: 12pt;\">- - things you can do with lists - -</div>\n",
    "<br>\n",
    "<p style=\"text-align: left; colour: black; font-size: 10pt;\">\n",
    "    You can retrieve a list item by it's index (position in the list).<br>Again, we use square brackets, this time right after the variable name and we put the index number inside the brackets.</p>"
   ]
  },
  {
   "cell_type": "code",
   "execution_count": null,
   "id": "b2d709f5",
   "metadata": {},
   "outputs": [],
   "source": [
    "print(spell_adam) # a reminder of what is in our list"
   ]
  },
  {
   "cell_type": "code",
   "execution_count": null,
   "id": "e5684e09",
   "metadata": {},
   "outputs": [],
   "source": [
    "spell_adam[1] # Does this get the first item?"
   ]
  },
  {
   "cell_type": "code",
   "execution_count": null,
   "id": "4227b94f",
   "metadata": {},
   "outputs": [],
   "source": [
    "spell_adam[0] # The first item in a list is the 0th item."
   ]
  },
  {
   "cell_type": "markdown",
   "id": "3efbe0ee",
   "metadata": {},
   "source": [
    "<div class=\"alert alert-block alert-warning\">\n",
    "    <b>zero-based indexing:</b> This is a weird programming thing where Python (and some other languages) consider the <em>1st</em> item in a list the <strong><em>0th</em></strong> item.\n",
    "</div>\n",
    "<div class=\"alert alert-block alert-info\">\n",
    "    <b>TODO:</b> Get 'm' from<code style=\"background-color: transparent; font-size: 10pt;\">spell_adam</code>.\n",
    "</div>"
   ]
  },
  {
   "cell_type": "code",
   "execution_count": null,
   "id": "45e0b12e",
   "metadata": {},
   "outputs": [],
   "source": [
    "\n"
   ]
  },
  {
   "cell_type": "markdown",
   "id": "c42b4ad1",
   "metadata": {},
   "source": [
    "<hr style=\"border: 1px solid #829136; width: 25%;\">\n",
    "<p style=\"text-align: left; colour: black; font-size: 10pt;\">\n",
    "    We can also get a slice of list items by using the colon :</p>"
   ]
  },
  {
   "cell_type": "code",
   "execution_count": null,
   "id": "d03886c0",
   "metadata": {},
   "outputs": [],
   "source": [
    "spell_adam[1:3] # get all items from index 1 to index 3 (BUT DON'T INCLUDE 3)"
   ]
  },
  {
   "cell_type": "code",
   "execution_count": null,
   "id": "e700b2ec",
   "metadata": {},
   "outputs": [],
   "source": [
    "spell_adam[1:] # get all items from index 1 onwards"
   ]
  },
  {
   "cell_type": "code",
   "execution_count": null,
   "id": "1271da8c",
   "metadata": {},
   "outputs": [],
   "source": [
    "spell_adam[:3] # get all items up to (BUT DON'T INCLUDE) index 3"
   ]
  },
  {
   "cell_type": "markdown",
   "id": "81712e1a",
   "metadata": {},
   "source": [
    "<div class=\"alert alert-block alert-info\">\n",
    "<b>TODO:</b> Get the first two letters of <code style=\"background-color: transparent; font-size: 10pt;\">spell_adam</code>.\n",
    "</div>"
   ]
  },
  {
   "cell_type": "code",
   "execution_count": null,
   "id": "e4eb91f6",
   "metadata": {},
   "outputs": [],
   "source": [
    "\n"
   ]
  },
  {
   "cell_type": "markdown",
   "id": "916bae67",
   "metadata": {},
   "source": [
    "<hr style=\"border: 1px solid #829136; width: 25%;\">\n",
    "<p style=\"text-align: left; colour: black; font-size: 10pt;\">\n",
    "    We can also add items to lists by using <code style=\"background-color: transparent; font-size: 10pt;\">append()</code> or <code style=\"background-color: transparent; font-size: 10pt;\">insert()</code>.</p>"
   ]
  },
  {
   "cell_type": "code",
   "execution_count": null,
   "id": "8b4e456d",
   "metadata": {},
   "outputs": [],
   "source": [
    "some_numbers = [1, 2, 4, 5]\n",
    "some_numbers"
   ]
  },
  {
   "cell_type": "markdown",
   "id": "f8678184",
   "metadata": {},
   "source": [
    "<p><code style=\"background-color: transparent; font-size: 10pt;\">append()</code>adds to the end of a list.</p>"
   ]
  },
  {
   "cell_type": "code",
   "execution_count": null,
   "id": "daa7e1d0",
   "metadata": {},
   "outputs": [],
   "source": [
    "# list_name.append(list_item)\n",
    "\n",
    "some_numbers.append(6)\n",
    "some_numbers"
   ]
  },
  {
   "cell_type": "markdown",
   "id": "c965a0b8",
   "metadata": {},
   "source": [
    "<p><code style=\"background-color: transparent; font-size: 10pt;\">insert()</code>inserts into the list (you need to tell it where).</p>"
   ]
  },
  {
   "cell_type": "code",
   "execution_count": null,
   "id": "90cdb721",
   "metadata": {},
   "outputs": [],
   "source": [
    "# list_name.insert(index, item)\n",
    "\n",
    "some_numbers.insert(2, 3) # at index 2, insert 3\n",
    "some_numbers"
   ]
  },
  {
   "cell_type": "markdown",
   "id": "bacb1250",
   "metadata": {},
   "source": [
    "<hr style=\"border: 1px solid #829136; width: 25%;\">\n",
    "<p style=\"text-align: left; colour: black; font-size: 10pt;\">\n",
    "    We can delete items by using <code style=\"background-color: transparent; font-size: 10pt;\">remove()</code> or <code style=\"background-color: transparent; font-size: 10pt;\">del</code>.</p>"
   ]
  },
  {
   "cell_type": "code",
   "execution_count": null,
   "id": "91b1109f",
   "metadata": {},
   "outputs": [],
   "source": [
    "# list_name.remove(item)\n",
    "\n",
    "some_numbers.remove(3)\n",
    "some_numbers"
   ]
  },
  {
   "cell_type": "code",
   "execution_count": null,
   "id": "66b2d8c7",
   "metadata": {},
   "outputs": [],
   "source": [
    "# del list_name[index]\n",
    "\n",
    "del some_numbers[0]\n",
    "some_numbers"
   ]
  },
  {
   "cell_type": "code",
   "execution_count": null,
   "id": "0b92dcbb",
   "metadata": {},
   "outputs": [],
   "source": [
    "# del list_name[slice]\n",
    "\n",
    "del some_numbers[2:]\n",
    "some_numbers"
   ]
  },
  {
   "cell_type": "markdown",
   "id": "e0b99d4d",
   "metadata": {},
   "source": [
    "<div class=\"alert alert-block alert-info\">\n",
    "<b>TODO:</b> Add a number to <code style=\"background-color: transparent; font-size: 10pt;\">some_numbers</code>.\n",
    "</div>"
   ]
  },
  {
   "cell_type": "code",
   "execution_count": null,
   "id": "3a44838a",
   "metadata": {},
   "outputs": [],
   "source": [
    "\n"
   ]
  },
  {
   "cell_type": "markdown",
   "id": "dd90a0be",
   "metadata": {},
   "source": [
    "<div class=\"alert alert-block alert-info\">\n",
    "<b>TODO:</b> Remove a number from <code style=\"background-color: transparent; font-size: 10pt;\">some_numbers</code>.\n",
    "</div>"
   ]
  },
  {
   "cell_type": "code",
   "execution_count": null,
   "id": "0169306b",
   "metadata": {},
   "outputs": [],
   "source": [
    "\n"
   ]
  },
  {
   "cell_type": "markdown",
   "id": "01dcc171",
   "metadata": {},
   "source": [
    "<hr style=\"border: 1px solid #829136; width: 25%;\">\n",
    "<p style=\"text-align: left; colour: black; font-size: 10pt;\">\n",
    "    We can check the length of a list (i.e. how many items are in our list) by <code style=\"background-color: transparent; font-size: 10pt;\">len()</code>.</p>"
   ]
  },
  {
   "cell_type": "code",
   "execution_count": null,
   "id": "1dd2bc99",
   "metadata": {},
   "outputs": [],
   "source": [
    "len(spell_adam)"
   ]
  },
  {
   "cell_type": "markdown",
   "id": "0925c031",
   "metadata": {},
   "source": [
    "<div class=\"alert alert-block alert-info\">\n",
    "<b>TODO:</b> Check length of <code style=\"background-color: transparent; font-size: 10pt;\">adams_name</code>.\n",
    "</div>"
   ]
  },
  {
   "cell_type": "code",
   "execution_count": null,
   "id": "31b34743",
   "metadata": {},
   "outputs": [],
   "source": [
    "\n"
   ]
  },
  {
   "cell_type": "markdown",
   "id": "743407da",
   "metadata": {},
   "source": [
    "<div class=\"alert alert-block alert-info\">\n",
    "    <b>TODO:</b> Check length of <code style=\"background-color: transparent; font-size: 10pt;\">adams_age</code>.\n",
    "</div>"
   ]
  },
  {
   "cell_type": "code",
   "execution_count": null,
   "id": "4119b0b0",
   "metadata": {},
   "outputs": [],
   "source": [
    "\n"
   ]
  },
  {
   "cell_type": "markdown",
   "id": "09dbef02",
   "metadata": {},
   "source": [
    "<p>Was there a problem with this? Why?</p>\n",
    "<div class=\"alert alert-block alert-warning\">\n",
    "<b>Hint:</b> <code style=\"background-color: transparent; font-size: 10pt;\">len()</code> doesn't work with numbers!\n",
    "</div>\n",
    "<hr style=\"border: 1px solid #829136; width: 25%;\">\n",
    "<p style=\"text-align: left; colour: black; font-size: 10pt;\">\n",
    "    We can loop through lists and do things with the items.</p>"
   ]
  },
  {
   "cell_type": "code",
   "execution_count": null,
   "id": "ccb1324a",
   "metadata": {},
   "outputs": [],
   "source": [
    "for letter in spell_adam:\n",
    "    print(letter)"
   ]
  },
  {
   "cell_type": "markdown",
   "id": "d02aa85e",
   "metadata": {},
   "source": [
    "<p style=\"text-align: left; colour: black; font-size: 10pt;\">\n",
    "    These are called <strong><code style=\"background-color: transparent; font-size: 10pt;\">for</code></strong> loops. They're super handy for when we want to perform the same action on a bunch of different objects, but we don't want to write the same code over and over.</p>\n",
    "<div class=\"alert alert-block alert-warning\">\n",
    "    <b>DRY:</b> This is a core coding principle: Don't repeat yourself!\n",
    "</div>\n",
    "<p style=\"text-align: left; colour: black; font-size: 10pt;\">\n",
    "    Like <code style=\"background-color: transparent; font-size: 10pt;\">if</code> statements, <code style=\"background-color: transparent; font-size: 10pt;\">for</code> loops can be simple (like above) or complex. Below is an example of a slightly more complex loop that uses <code style=\"background-color: transparent; font-size: 10pt;\">if</code> statements inside the loop to check if the list items meet certain conditions.</p>"
   ]
  },
  {
   "cell_type": "code",
   "execution_count": null,
   "id": "6c1cab48",
   "metadata": {},
   "outputs": [],
   "source": [
    "for number in range(10):\n",
    "    if number % 2 == 0:\n",
    "        print(f\"{number} is even\")\n",
    "    else:\n",
    "        print(f\"{number} is odd\")"
   ]
  },
  {
   "cell_type": "markdown",
   "id": "2a585f83",
   "metadata": {},
   "source": [
    "<div class=\"alert alert-block alert-warning\">\n",
    "    <b>Range:</b> The <code style=\"background-color: transparent; font-size: 10pt;\">range()</code> command is used to generate a sequence of numbers.\n",
    "</div>\n",
    "<div class=\"alert alert-block alert-warning\">\n",
    "    <b>Modulo operator:</b> The <code style=\"background-color: transparent; font-size: 10pt;\">%</code> symbol is called the modulo operator. It calculates the remainder of a division operation.\n",
    "</div>\n",
    "<div class=\"alert alert-block alert-info\">\n",
    "    <b>TODO:</b> Write a <code style=\"background-color: transparent; font-size: 10pt;\">for</code> loop using one of the list we've defined (or make a new one).\n",
    "</div>"
   ]
  },
  {
   "cell_type": "code",
   "execution_count": null,
   "id": "6c860e02",
   "metadata": {},
   "outputs": [],
   "source": [
    "\n"
   ]
  },
  {
   "cell_type": "markdown",
   "id": "a9722a16",
   "metadata": {},
   "source": [
    "<a id=\"dict\"></a>\n",
    "<hr style=\"border: 0.5px solid #3477eb;\">\n",
    "<div style=\"text-align: center; color: #3477eb; font-size: 14pt;\">- dictionaries (dict) -</div><br>\n",
    "<p>Lists aren't the only way to store multiple objects - you can use a dictionary!<br><br>Unlike lists, dictionaries aren't ordered, so you can't access the items by their index (item number). Instead, dictionaries have a bunch of keys that you can use to store/access the dictionary objects.<br><br>Dictionaries are created using curly brackets <code style=\"background-color: transparent; font-size: 10pt;\">{}</code>, commas and colons.</p>"
   ]
  },
  {
   "cell_type": "code",
   "execution_count": null,
   "id": "16fc23ad",
   "metadata": {},
   "outputs": [],
   "source": [
    "# dict_name = { key1: value1, key2: value2, ...}\n",
    "\n",
    "dict_of_rock_colours = {\n",
    "    'topaz': 'blue',\n",
    "    'sapphire': 'blue',\n",
    "    'sunstone': 'gold',\n",
    "    'moonstone': 'white',\n",
    "}"
   ]
  },
  {
   "cell_type": "code",
   "execution_count": null,
   "id": "fad541fe",
   "metadata": {},
   "outputs": [],
   "source": [
    "dict_of_rock_colours"
   ]
  },
  {
   "cell_type": "markdown",
   "id": "9dd611d7",
   "metadata": {},
   "source": [
    "<p>We can add more key-value pairs.</p>"
   ]
  },
  {
   "cell_type": "code",
   "execution_count": null,
   "id": "67f10053",
   "metadata": {},
   "outputs": [],
   "source": [
    "dict_of_rock_colours['ruby'] = 'red'"
   ]
  },
  {
   "cell_type": "code",
   "execution_count": null,
   "id": "d9f38e3e",
   "metadata": {},
   "outputs": [],
   "source": [
    "dict_of_rock_colours"
   ]
  },
  {
   "cell_type": "markdown",
   "id": "7b30dbb1",
   "metadata": {},
   "source": [
    "To get the value you want, you call the dict key like this:"
   ]
  },
  {
   "cell_type": "code",
   "execution_count": null,
   "id": "be886380",
   "metadata": {},
   "outputs": [],
   "source": [
    "dict_of_rock_colours['sunstone']"
   ]
  },
  {
   "cell_type": "markdown",
   "id": "af342c1b",
   "metadata": {},
   "source": [
    "<div class=\"alert alert-block alert-info\">\n",
    "<b>TODO:</b> Check what colour moonstones are.\n",
    "</div>"
   ]
  },
  {
   "cell_type": "code",
   "execution_count": null,
   "id": "6df80f53",
   "metadata": {},
   "outputs": [],
   "source": [
    "\n"
   ]
  },
  {
   "cell_type": "markdown",
   "id": "4bf644c2",
   "metadata": {},
   "source": [
    "<div class=\"alert alert-block alert-info\">\n",
    "<b>TODO:</b> Make a dictionary called <code style=\"background-color: transparent; font-size: 10pt;\">adams_dict</code> and store some info about Adam in there.\n",
    "</div>"
   ]
  },
  {
   "cell_type": "code",
   "execution_count": null,
   "id": "67f5f200",
   "metadata": {},
   "outputs": [],
   "source": [
    "\n"
   ]
  },
  {
   "cell_type": "markdown",
   "id": "e5427f73",
   "metadata": {},
   "source": [
    "<div class=\"alert alert-block alert-info\">\n",
    "<b>TODO:</b> Make another dict that stores some of our variables!\n",
    "</div>"
   ]
  },
  {
   "cell_type": "code",
   "execution_count": null,
   "id": "f1a94705",
   "metadata": {},
   "outputs": [],
   "source": [
    "\n"
   ]
  },
  {
   "cell_type": "markdown",
   "id": "32e35bdc",
   "metadata": {},
   "source": [
    "<a id=\"functions\"></a>\n",
    "<hr style=\"border: 6px solid #3477eb;\">\n",
    "<div style=\"text-align: center; color: #3477eb; font-size: 24pt;\">- functions -</div>\n",
    "<br>\n",
    "<div style=\"text-align: center; list-style-type: none;\">\n",
    "    <a href=\"#one-input\" style=\"color: #3477eb !important; text-decoration: none !important;\">one input</a><br>\n",
    "    <a href=\"#no-inputs\" style=\"color: #3477eb !important; text-decoration: none !important;\">no inputs</a><br>\n",
    "    <a href=\"#many-inputs\" style=\"color: #3477eb !important; text-decoration: none !important;\">many inputs</a><br>\n",
    "    <a href=\"#return\" style=\"color: #3477eb !important; text-decoration: none !important;\">return info from function</a><br>\n",
    "</div><br>\n",
    "<p style=\"text-align: left; colour: black; font-size: 10pt;\">\n",
    "    Now we're getting into some really fun stuff - functions!<br><br>A function is like a set of instructions. You define it by giving it a name and the instructions to follow each time you call it's name.</p>\n",
    "\n",
    "__Stuff to know:__\n",
    "\n",
    "    - function name\n",
    "    - any inputs?\n",
    "    - instructions\n",
    "\n",
    "__Definition Syntax__\n",
    "\n",
    "    def <function_name>(<any_inputs>):\n",
    "        <instructions>\n",
    "\n",
    "__To call the function:__\n",
    "\n",
    "    <function_name>(<any_inputs>)\n",
    "\n",
    "<a id=\"one-input\"></a>\n",
    "<hr style=\"border: 0.5px solid #3477eb;\">\n",
    "<div style=\"text-align: center; color: #3477eb; font-size: 14pt;\">- one input -</div><br>"
   ]
  },
  {
   "cell_type": "code",
   "execution_count": null,
   "id": "f5ea1979",
   "metadata": {},
   "outputs": [],
   "source": [
    "def is_adam_older_than(age):\n",
    "    if age < 10:\n",
    "        print(\"yes\")\n",
    "    else:\n",
    "        print(\"no\")"
   ]
  },
  {
   "cell_type": "markdown",
   "id": "bb626502",
   "metadata": {},
   "source": [
    "To call the function, we write the function name followed by a pair of smooth brackets ()."
   ]
  },
  {
   "cell_type": "code",
   "execution_count": null,
   "id": "43fc3838",
   "metadata": {},
   "outputs": [],
   "source": [
    "is_adam_older_than(8)"
   ]
  },
  {
   "cell_type": "code",
   "execution_count": null,
   "id": "3be6e36b",
   "metadata": {},
   "outputs": [],
   "source": [
    "is_adam_older_than(300)"
   ]
  },
  {
   "cell_type": "code",
   "execution_count": null,
   "id": "de603081",
   "metadata": {},
   "outputs": [],
   "source": [
    "is_adam_older_than() # it expects 1 input (positional argument)"
   ]
  },
  {
   "cell_type": "markdown",
   "id": "e48fe14d",
   "metadata": {},
   "source": [
    "<a id=\"no-inputs\"></a>\n",
    "<hr style=\"border: 0.5px solid #3477eb;\">\n",
    "<div style=\"text-align: center; color: #3477eb; font-size: 14pt;\">- no inputs -</div><br>\n",
    "<p>Functions can run without any inputs.</p>"
   ]
  },
  {
   "cell_type": "code",
   "execution_count": null,
   "id": "356c3ca0",
   "metadata": {},
   "outputs": [],
   "source": [
    "def get_adams_middle_name():\n",
    "    print(\"Matthew\")"
   ]
  },
  {
   "cell_type": "markdown",
   "id": "dc4f02c9",
   "metadata": {},
   "source": [
    "<div class=\"alert alert-block alert-info\">\n",
    "<b>TODO:</b> Call <code style=\"background-color: transparent; font-size: 10pt;\">get_adams_middle_name</code>.\n",
    "</div>"
   ]
  },
  {
   "cell_type": "code",
   "execution_count": null,
   "id": "bd84a1c8",
   "metadata": {},
   "outputs": [],
   "source": [
    "\n"
   ]
  },
  {
   "cell_type": "markdown",
   "id": "a70e39ed",
   "metadata": {},
   "source": [
    "<div class=\"alert alert-block alert-info\">\n",
    "<b>TODO:</b> What happens when you give it an input?\n",
    "</div>"
   ]
  },
  {
   "cell_type": "code",
   "execution_count": null,
   "id": "1e975dbf",
   "metadata": {},
   "outputs": [],
   "source": [
    "\n"
   ]
  },
  {
   "cell_type": "markdown",
   "id": "20a8bb88",
   "metadata": {},
   "source": [
    "<a id=\"many-inputs\"></a>\n",
    "<hr style=\"border: 0.5px solid #3477eb;\">\n",
    "<div style=\"text-align: center; color: #3477eb; font-size: 14pt;\">- many inputs -</div><br>\n",
    "<p>Functions can also run with lots of inputs, as long as they're expected.</p>"
   ]
  },
  {
   "cell_type": "code",
   "execution_count": null,
   "id": "fad7f8d1",
   "metadata": {},
   "outputs": [],
   "source": [
    "def full_name(first_name, middle_name, last_name):\n",
    "    name = f\"{first_name} {middle_name} {last_name}\"\n",
    "    print(name)"
   ]
  },
  {
   "cell_type": "code",
   "execution_count": null,
   "id": "66093092",
   "metadata": {},
   "outputs": [],
   "source": [
    "full_name(\"Adam\")"
   ]
  },
  {
   "cell_type": "code",
   "execution_count": null,
   "id": "74813565",
   "metadata": {},
   "outputs": [],
   "source": [
    "full_name(\"Adam\", \"Matthew\", \"Jamieson\")"
   ]
  },
  {
   "cell_type": "markdown",
   "id": "0aa81bc8",
   "metadata": {},
   "source": [
    "<div class=\"alert alert-block alert-info\">\n",
    "<b>TODO:</b> Call <code style=\"background-color: transparent; font-size: 10pt;\">full_name</code> using one of the variables we have defined as an input.\n",
    "</div>"
   ]
  },
  {
   "cell_type": "code",
   "execution_count": null,
   "id": "925b42d4",
   "metadata": {},
   "outputs": [],
   "source": [
    "\n"
   ]
  },
  {
   "cell_type": "markdown",
   "id": "09d48c04",
   "metadata": {},
   "source": [
    "<a id=\"return\"></a>\n",
    "<hr style=\"border: 0.5px solid #3477eb;\">\n",
    "<div style=\"text-align: center; color: #3477eb; font-size: 14pt;\">- return information from a function -</div><br>\n",
    "<p>Functions can also return information.</p>"
   ]
  },
  {
   "cell_type": "code",
   "execution_count": null,
   "id": "b1f7bb24",
   "metadata": {},
   "outputs": [],
   "source": [
    "def add_three(number):\n",
    "    if not isinstance(number, (int, float)):\n",
    "        print(\"Input must be a number!\")\n",
    "        return None\n",
    "    else:\n",
    "        return number + 3"
   ]
  },
  {
   "cell_type": "code",
   "execution_count": null,
   "id": "0914e08f",
   "metadata": {},
   "outputs": [],
   "source": [
    "add_three('number') # print message to screen"
   ]
  },
  {
   "cell_type": "code",
   "execution_count": null,
   "id": "fbdb03ba",
   "metadata": {},
   "outputs": [],
   "source": [
    "answer1 = add_three(9) # store returned value in a new variable"
   ]
  },
  {
   "cell_type": "code",
   "execution_count": null,
   "id": "9dc18116",
   "metadata": {},
   "outputs": [],
   "source": [
    "answer1"
   ]
  },
  {
   "cell_type": "markdown",
   "id": "18b2afc9",
   "metadata": {},
   "source": [
    "<p>Returned values are handy if we don't want to just print them to the screen, but use them for something else.</p>"
   ]
  },
  {
   "cell_type": "code",
   "execution_count": null,
   "id": "1265c6be",
   "metadata": {},
   "outputs": [],
   "source": [
    "answer2 = add_three(answer1)"
   ]
  },
  {
   "cell_type": "code",
   "execution_count": null,
   "id": "8cd42bfc",
   "metadata": {},
   "outputs": [],
   "source": [
    "answer2"
   ]
  },
  {
   "cell_type": "markdown",
   "id": "d2498816",
   "metadata": {},
   "source": [
    "<div class=\"alert alert-block alert-info\">\n",
    "    <b>TODO:</b> Create a function and call it!\n",
    "</div>"
   ]
  },
  {
   "cell_type": "code",
   "execution_count": null,
   "id": "966d183d",
   "metadata": {},
   "outputs": [],
   "source": [
    "\n"
   ]
  }
 ],
 "metadata": {
  "kernelspec": {
   "display_name": "Python 3 (ipykernel)",
   "language": "python",
   "name": "python3"
  },
  "language_info": {
   "codemirror_mode": {
    "name": "ipython",
    "version": 3
   },
   "file_extension": ".py",
   "mimetype": "text/x-python",
   "name": "python",
   "nbconvert_exporter": "python",
   "pygments_lexer": "ipython3",
   "version": "3.9.12"
  }
 },
 "nbformat": 4,
 "nbformat_minor": 5
}
